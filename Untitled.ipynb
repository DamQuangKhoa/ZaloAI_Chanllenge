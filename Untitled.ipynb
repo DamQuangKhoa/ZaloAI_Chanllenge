{
 "cells": [
  {
   "cell_type": "code",
   "execution_count": 43,
   "metadata": {},
   "outputs": [],
   "source": [
    "import pandas as pd\n",
    "import seaborn as sns\n",
    "from sklearn.preprocessing import OneHotEncoder, LabelEncoder"
   ]
  },
  {
   "cell_type": "code",
   "execution_count": 12,
   "metadata": {},
   "outputs": [],
   "source": [
    "df_train = pd.read_csv(\"train_info.tsv\",sep=\"\\t\")\n",
    "df_test = pd.read_csv(\"test_info.tsv\",sep=\"\\t\")\n",
    "df_rank = pd.read_csv('train_rank.csv')"
   ]
  },
  {
   "cell_type": "code",
   "execution_count": 3,
   "metadata": {},
   "outputs": [
    {
     "data": {
      "text/html": [
       "<div>\n",
       "<style scoped>\n",
       "    .dataframe tbody tr th:only-of-type {\n",
       "        vertical-align: middle;\n",
       "    }\n",
       "\n",
       "    .dataframe tbody tr th {\n",
       "        vertical-align: top;\n",
       "    }\n",
       "\n",
       "    .dataframe thead th {\n",
       "        text-align: right;\n",
       "    }\n",
       "</style>\n",
       "<table border=\"1\" class=\"dataframe\">\n",
       "  <thead>\n",
       "    <tr style=\"text-align: right;\">\n",
       "      <th></th>\n",
       "      <th>ID</th>\n",
       "      <th>title</th>\n",
       "      <th>artist_name</th>\n",
       "      <th>artist_id</th>\n",
       "      <th>composers_name</th>\n",
       "      <th>composers_id</th>\n",
       "      <th>release_time</th>\n",
       "    </tr>\n",
       "  </thead>\n",
       "  <tbody>\n",
       "    <tr>\n",
       "      <th>0</th>\n",
       "      <td>1073748245</td>\n",
       "      <td>Đêm Chôn Dầu Vượt Biển</td>\n",
       "      <td>Như Quỳnh</td>\n",
       "      <td>551</td>\n",
       "      <td>Châu Đình An</td>\n",
       "      <td>5765</td>\n",
       "      <td>2017-10-01 22:07:00</td>\n",
       "    </tr>\n",
       "    <tr>\n",
       "      <th>1</th>\n",
       "      <td>1073751978</td>\n",
       "      <td>Mùa Thu Trong Mưa</td>\n",
       "      <td>Minh Tuyết</td>\n",
       "      <td>455</td>\n",
       "      <td>Trường Sa</td>\n",
       "      <td>100105</td>\n",
       "      <td>2017-10-01 20:58:00</td>\n",
       "    </tr>\n",
       "    <tr>\n",
       "      <th>2</th>\n",
       "      <td>1073835561</td>\n",
       "      <td>Rồi Ánh Trăng Tan</td>\n",
       "      <td>Lưu Bích</td>\n",
       "      <td>450</td>\n",
       "      <td>Quốc Bảo</td>\n",
       "      <td>4355</td>\n",
       "      <td>2017-11-01 18:16:00</td>\n",
       "    </tr>\n",
       "    <tr>\n",
       "      <th>3</th>\n",
       "      <td>1073856553</td>\n",
       "      <td>Còn Thương Rau Đắng Mọc Sau Hè</td>\n",
       "      <td>Như Quỳnh</td>\n",
       "      <td>551</td>\n",
       "      <td>Bắc Sơn</td>\n",
       "      <td>7686</td>\n",
       "      <td>2017-11-01 17:36:00</td>\n",
       "    </tr>\n",
       "    <tr>\n",
       "      <th>4</th>\n",
       "      <td>1073929630</td>\n",
       "      <td>Người Điên Biết Yêu</td>\n",
       "      <td>Như Loan</td>\n",
       "      <td>513</td>\n",
       "      <td>Lê Minh Kha</td>\n",
       "      <td>100466</td>\n",
       "      <td>2017-11-01 17:49:00</td>\n",
       "    </tr>\n",
       "  </tbody>\n",
       "</table>\n",
       "</div>"
      ],
      "text/plain": [
       "           ID                           title artist_name artist_id  \\\n",
       "0  1073748245          Đêm Chôn Dầu Vượt Biển   Như Quỳnh       551   \n",
       "1  1073751978               Mùa Thu Trong Mưa  Minh Tuyết       455   \n",
       "2  1073835561               Rồi Ánh Trăng Tan    Lưu Bích       450   \n",
       "3  1073856553  Còn Thương Rau Đắng Mọc Sau Hè   Như Quỳnh       551   \n",
       "4  1073929630             Người Điên Biết Yêu    Như Loan       513   \n",
       "\n",
       "  composers_name composers_id         release_time  \n",
       "0   Châu Đình An         5765  2017-10-01 22:07:00  \n",
       "1      Trường Sa       100105  2017-10-01 20:58:00  \n",
       "2       Quốc Bảo         4355  2017-11-01 18:16:00  \n",
       "3        Bắc Sơn         7686  2017-11-01 17:36:00  \n",
       "4    Lê Minh Kha       100466  2017-11-01 17:49:00  "
      ]
     },
     "execution_count": 3,
     "metadata": {},
     "output_type": "execute_result"
    }
   ],
   "source": [
    "df_train.head()"
   ]
  },
  {
   "cell_type": "code",
   "execution_count": 11,
   "metadata": {},
   "outputs": [
    {
     "data": {
      "text/html": [
       "<div>\n",
       "<style scoped>\n",
       "    .dataframe tbody tr th:only-of-type {\n",
       "        vertical-align: middle;\n",
       "    }\n",
       "\n",
       "    .dataframe tbody tr th {\n",
       "        vertical-align: top;\n",
       "    }\n",
       "\n",
       "    .dataframe thead th {\n",
       "        text-align: right;\n",
       "    }\n",
       "</style>\n",
       "<table border=\"1\" class=\"dataframe\">\n",
       "  <thead>\n",
       "    <tr style=\"text-align: right;\">\n",
       "      <th></th>\n",
       "      <th>ID</th>\n",
       "      <th>title</th>\n",
       "      <th>artist_name</th>\n",
       "      <th>artist_id</th>\n",
       "      <th>composers_name</th>\n",
       "      <th>composers_id</th>\n",
       "      <th>release_time</th>\n",
       "    </tr>\n",
       "  </thead>\n",
       "  <tbody>\n",
       "    <tr>\n",
       "      <th>0</th>\n",
       "      <td>1073994292</td>\n",
       "      <td>Giấc Mơ Mình Em</td>\n",
       "      <td>Minh Tuyết</td>\n",
       "      <td>455</td>\n",
       "      <td>Minh Vy</td>\n",
       "      <td>100019</td>\n",
       "      <td>2017-11-01 18:27:00</td>\n",
       "    </tr>\n",
       "    <tr>\n",
       "      <th>1</th>\n",
       "      <td>1074250503</td>\n",
       "      <td>Rồi 30 Năm Qua</td>\n",
       "      <td>Tâm Đoan</td>\n",
       "      <td>518</td>\n",
       "      <td>Nhật Ngân</td>\n",
       "      <td>100218</td>\n",
       "      <td>2017-10-01 22:07:00</td>\n",
       "    </tr>\n",
       "    <tr>\n",
       "      <th>2</th>\n",
       "      <td>1074254709</td>\n",
       "      <td>Hòa Bình Hoan Ca</td>\n",
       "      <td>Hùng Phú, Duy Linh</td>\n",
       "      <td>18241.918</td>\n",
       "      <td>Huy Liêu</td>\n",
       "      <td>430572</td>\n",
       "      <td>2017-11-07 23:47:00</td>\n",
       "    </tr>\n",
       "    <tr>\n",
       "      <th>3</th>\n",
       "      <td>1074254735</td>\n",
       "      <td>Chia Tay Ngày Hè</td>\n",
       "      <td>Xuân Trường</td>\n",
       "      <td>11740</td>\n",
       "      <td>Huy Liêu</td>\n",
       "      <td>430572</td>\n",
       "      <td>2017-11-07 23:38:00</td>\n",
       "    </tr>\n",
       "    <tr>\n",
       "      <th>4</th>\n",
       "      <td>1074326411</td>\n",
       "      <td>Xin Gọi Nhau Là Cố Nhân</td>\n",
       "      <td>Quang Lê</td>\n",
       "      <td>828</td>\n",
       "      <td>Song Ngọc</td>\n",
       "      <td>100288</td>\n",
       "      <td>2017-10-01 21:33:00</td>\n",
       "    </tr>\n",
       "  </tbody>\n",
       "</table>\n",
       "</div>"
      ],
      "text/plain": [
       "           ID                    title         artist_name  artist_id  \\\n",
       "0  1073994292          Giấc Mơ Mình Em          Minh Tuyết        455   \n",
       "1  1074250503           Rồi 30 Năm Qua            Tâm Đoan        518   \n",
       "2  1074254709         Hòa Bình Hoan Ca  Hùng Phú, Duy Linh  18241.918   \n",
       "3  1074254735         Chia Tay Ngày Hè         Xuân Trường      11740   \n",
       "4  1074326411  Xin Gọi Nhau Là Cố Nhân            Quang Lê        828   \n",
       "\n",
       "  composers_name composers_id         release_time  \n",
       "0        Minh Vy       100019  2017-11-01 18:27:00  \n",
       "1      Nhật Ngân       100218  2017-10-01 22:07:00  \n",
       "2       Huy Liêu       430572  2017-11-07 23:47:00  \n",
       "3       Huy Liêu       430572  2017-11-07 23:38:00  \n",
       "4      Song Ngọc       100288  2017-10-01 21:33:00  "
      ]
     },
     "execution_count": 11,
     "metadata": {},
     "output_type": "execute_result"
    }
   ],
   "source": [
    "df_test.head()"
   ]
  },
  {
   "cell_type": "code",
   "execution_count": 13,
   "metadata": {},
   "outputs": [
    {
     "data": {
      "text/html": [
       "<div>\n",
       "<style scoped>\n",
       "    .dataframe tbody tr th:only-of-type {\n",
       "        vertical-align: middle;\n",
       "    }\n",
       "\n",
       "    .dataframe tbody tr th {\n",
       "        vertical-align: top;\n",
       "    }\n",
       "\n",
       "    .dataframe thead th {\n",
       "        text-align: right;\n",
       "    }\n",
       "</style>\n",
       "<table border=\"1\" class=\"dataframe\">\n",
       "  <thead>\n",
       "    <tr style=\"text-align: right;\">\n",
       "      <th></th>\n",
       "      <th>ID</th>\n",
       "      <th>label</th>\n",
       "    </tr>\n",
       "  </thead>\n",
       "  <tbody>\n",
       "    <tr>\n",
       "      <th>0</th>\n",
       "      <td>1073748245</td>\n",
       "      <td>7</td>\n",
       "    </tr>\n",
       "    <tr>\n",
       "      <th>1</th>\n",
       "      <td>1073751978</td>\n",
       "      <td>3</td>\n",
       "    </tr>\n",
       "    <tr>\n",
       "      <th>2</th>\n",
       "      <td>1073835561</td>\n",
       "      <td>6</td>\n",
       "    </tr>\n",
       "    <tr>\n",
       "      <th>3</th>\n",
       "      <td>1073856553</td>\n",
       "      <td>2</td>\n",
       "    </tr>\n",
       "    <tr>\n",
       "      <th>4</th>\n",
       "      <td>1073929630</td>\n",
       "      <td>7</td>\n",
       "    </tr>\n",
       "  </tbody>\n",
       "</table>\n",
       "</div>"
      ],
      "text/plain": [
       "           ID  label\n",
       "0  1073748245      7\n",
       "1  1073751978      3\n",
       "2  1073835561      6\n",
       "3  1073856553      2\n",
       "4  1073929630      7"
      ]
     },
     "execution_count": 13,
     "metadata": {},
     "output_type": "execute_result"
    }
   ],
   "source": [
    "df_rank.head()"
   ]
  },
  {
   "cell_type": "code",
   "execution_count": 14,
   "metadata": {},
   "outputs": [],
   "source": [
    "df3 = pd.merge(df_train, df_rank)"
   ]
  },
  {
   "cell_type": "code",
   "execution_count": 15,
   "metadata": {},
   "outputs": [
    {
     "data": {
      "text/html": [
       "<div>\n",
       "<style scoped>\n",
       "    .dataframe tbody tr th:only-of-type {\n",
       "        vertical-align: middle;\n",
       "    }\n",
       "\n",
       "    .dataframe tbody tr th {\n",
       "        vertical-align: top;\n",
       "    }\n",
       "\n",
       "    .dataframe thead th {\n",
       "        text-align: right;\n",
       "    }\n",
       "</style>\n",
       "<table border=\"1\" class=\"dataframe\">\n",
       "  <thead>\n",
       "    <tr style=\"text-align: right;\">\n",
       "      <th></th>\n",
       "      <th>ID</th>\n",
       "      <th>title</th>\n",
       "      <th>artist_name</th>\n",
       "      <th>artist_id</th>\n",
       "      <th>composers_name</th>\n",
       "      <th>composers_id</th>\n",
       "      <th>release_time</th>\n",
       "      <th>label</th>\n",
       "    </tr>\n",
       "  </thead>\n",
       "  <tbody>\n",
       "    <tr>\n",
       "      <th>0</th>\n",
       "      <td>1073748245</td>\n",
       "      <td>Đêm Chôn Dầu Vượt Biển</td>\n",
       "      <td>Như Quỳnh</td>\n",
       "      <td>551</td>\n",
       "      <td>Châu Đình An</td>\n",
       "      <td>5765</td>\n",
       "      <td>2017-10-01 22:07:00</td>\n",
       "      <td>7</td>\n",
       "    </tr>\n",
       "    <tr>\n",
       "      <th>1</th>\n",
       "      <td>1073751978</td>\n",
       "      <td>Mùa Thu Trong Mưa</td>\n",
       "      <td>Minh Tuyết</td>\n",
       "      <td>455</td>\n",
       "      <td>Trường Sa</td>\n",
       "      <td>100105</td>\n",
       "      <td>2017-10-01 20:58:00</td>\n",
       "      <td>3</td>\n",
       "    </tr>\n",
       "    <tr>\n",
       "      <th>2</th>\n",
       "      <td>1073835561</td>\n",
       "      <td>Rồi Ánh Trăng Tan</td>\n",
       "      <td>Lưu Bích</td>\n",
       "      <td>450</td>\n",
       "      <td>Quốc Bảo</td>\n",
       "      <td>4355</td>\n",
       "      <td>2017-11-01 18:16:00</td>\n",
       "      <td>6</td>\n",
       "    </tr>\n",
       "    <tr>\n",
       "      <th>3</th>\n",
       "      <td>1073856553</td>\n",
       "      <td>Còn Thương Rau Đắng Mọc Sau Hè</td>\n",
       "      <td>Như Quỳnh</td>\n",
       "      <td>551</td>\n",
       "      <td>Bắc Sơn</td>\n",
       "      <td>7686</td>\n",
       "      <td>2017-11-01 17:36:00</td>\n",
       "      <td>2</td>\n",
       "    </tr>\n",
       "    <tr>\n",
       "      <th>4</th>\n",
       "      <td>1073929630</td>\n",
       "      <td>Người Điên Biết Yêu</td>\n",
       "      <td>Như Loan</td>\n",
       "      <td>513</td>\n",
       "      <td>Lê Minh Kha</td>\n",
       "      <td>100466</td>\n",
       "      <td>2017-11-01 17:49:00</td>\n",
       "      <td>7</td>\n",
       "    </tr>\n",
       "  </tbody>\n",
       "</table>\n",
       "</div>"
      ],
      "text/plain": [
       "           ID                           title artist_name artist_id  \\\n",
       "0  1073748245          Đêm Chôn Dầu Vượt Biển   Như Quỳnh       551   \n",
       "1  1073751978               Mùa Thu Trong Mưa  Minh Tuyết       455   \n",
       "2  1073835561               Rồi Ánh Trăng Tan    Lưu Bích       450   \n",
       "3  1073856553  Còn Thương Rau Đắng Mọc Sau Hè   Như Quỳnh       551   \n",
       "4  1073929630             Người Điên Biết Yêu    Như Loan       513   \n",
       "\n",
       "  composers_name composers_id         release_time  label  \n",
       "0   Châu Đình An         5765  2017-10-01 22:07:00      7  \n",
       "1      Trường Sa       100105  2017-10-01 20:58:00      3  \n",
       "2       Quốc Bảo         4355  2017-11-01 18:16:00      6  \n",
       "3        Bắc Sơn         7686  2017-11-01 17:36:00      2  \n",
       "4    Lê Minh Kha       100466  2017-11-01 17:49:00      7  "
      ]
     },
     "execution_count": 15,
     "metadata": {},
     "output_type": "execute_result"
    }
   ],
   "source": [
    "df3.head()"
   ]
  },
  {
   "cell_type": "code",
   "execution_count": 37,
   "metadata": {},
   "outputs": [
    {
     "data": {
      "text/html": [
       "<div>\n",
       "<style scoped>\n",
       "    .dataframe tbody tr th:only-of-type {\n",
       "        vertical-align: middle;\n",
       "    }\n",
       "\n",
       "    .dataframe tbody tr th {\n",
       "        vertical-align: top;\n",
       "    }\n",
       "\n",
       "    .dataframe thead th {\n",
       "        text-align: right;\n",
       "    }\n",
       "</style>\n",
       "<table border=\"1\" class=\"dataframe\">\n",
       "  <thead>\n",
       "    <tr style=\"text-align: right;\">\n",
       "      <th></th>\n",
       "      <th>ID</th>\n",
       "      <th>title</th>\n",
       "      <th>artist_name</th>\n",
       "      <th>artist_id</th>\n",
       "      <th>composers_name</th>\n",
       "      <th>composers_id</th>\n",
       "      <th>release_time</th>\n",
       "      <th>label</th>\n",
       "    </tr>\n",
       "  </thead>\n",
       "  <tbody>\n",
       "    <tr>\n",
       "      <th>6600</th>\n",
       "      <td>1078179716</td>\n",
       "      <td>Sự Tích Cọp Lông Vằn</td>\n",
       "      <td>Bé Hiển Thông</td>\n",
       "      <td>607733</td>\n",
       "      <td>Khánh Trần</td>\n",
       "      <td>609200</td>\n",
       "      <td>2018-07-23 20:08:00</td>\n",
       "      <td>10</td>\n",
       "    </tr>\n",
       "    <tr>\n",
       "      <th>7790</th>\n",
       "      <td>1078236665</td>\n",
       "      <td>Anh Luôn Tồn Tại</td>\n",
       "      <td>Huỳnh Như</td>\n",
       "      <td>433983</td>\n",
       "      <td>Khánh Đơn</td>\n",
       "      <td>100386</td>\n",
       "      <td>2018-02-10 22:20:00</td>\n",
       "      <td>10</td>\n",
       "    </tr>\n",
       "    <tr>\n",
       "      <th>7784</th>\n",
       "      <td>1078236479</td>\n",
       "      <td>Làm Sao Anh Quên</td>\n",
       "      <td>Nhật Tinh Anh</td>\n",
       "      <td>2292</td>\n",
       "      <td>Cao Anh Phi</td>\n",
       "      <td>103510</td>\n",
       "      <td>2018-02-10 17:29:00</td>\n",
       "      <td>10</td>\n",
       "    </tr>\n",
       "    <tr>\n",
       "      <th>7785</th>\n",
       "      <td>1078236482</td>\n",
       "      <td>Hoa Núi</td>\n",
       "      <td>Minh Chi</td>\n",
       "      <td>434322</td>\n",
       "      <td>Hoàng Thúc</td>\n",
       "      <td>613964</td>\n",
       "      <td>2018-02-10 17:35:00</td>\n",
       "      <td>10</td>\n",
       "    </tr>\n",
       "    <tr>\n",
       "      <th>7786</th>\n",
       "      <td>1078236485</td>\n",
       "      <td>Hoa Núi (Beat)</td>\n",
       "      <td>Minh Chi</td>\n",
       "      <td>434322</td>\n",
       "      <td>Hoàng Thúc</td>\n",
       "      <td>613964</td>\n",
       "      <td>2018-02-10 17:39:00</td>\n",
       "      <td>10</td>\n",
       "    </tr>\n",
       "    <tr>\n",
       "      <th>7787</th>\n",
       "      <td>1078236620</td>\n",
       "      <td>Em Sẽ Nhớ Mãi</td>\n",
       "      <td>Nguyên Hà</td>\n",
       "      <td>19050</td>\n",
       "      <td>Đức Trí, Bằng Kiều</td>\n",
       "      <td>2028.1001</td>\n",
       "      <td>2018-02-10 21:03:00</td>\n",
       "      <td>10</td>\n",
       "    </tr>\n",
       "    <tr>\n",
       "      <th>7788</th>\n",
       "      <td>1078236656</td>\n",
       "      <td>Làm Ơn Đừng Đi</td>\n",
       "      <td>Châu Ngọc Hiếu</td>\n",
       "      <td>14362</td>\n",
       "      <td>Châu Ngọc Hiếu</td>\n",
       "      <td>14362</td>\n",
       "      <td>2018-02-10 22:10:00</td>\n",
       "      <td>10</td>\n",
       "    </tr>\n",
       "    <tr>\n",
       "      <th>7789</th>\n",
       "      <td>1078236664</td>\n",
       "      <td>Anh Luôn Tồn Tại (Beat)</td>\n",
       "      <td>Huỳnh Như</td>\n",
       "      <td>433983</td>\n",
       "      <td>Khánh Đơn</td>\n",
       "      <td>100386</td>\n",
       "      <td>2018-02-10 22:20:00</td>\n",
       "      <td>10</td>\n",
       "    </tr>\n",
       "    <tr>\n",
       "      <th>7791</th>\n",
       "      <td>1078236699</td>\n",
       "      <td>Guantamera (Lần Đầu Gặp Em)</td>\n",
       "      <td>Đàm Vĩnh Hưng</td>\n",
       "      <td>16</td>\n",
       "      <td>Nhạc Ngoại Lời Việt</td>\n",
       "      <td>100103</td>\n",
       "      <td>2018-02-10 22:54:00</td>\n",
       "      <td>10</td>\n",
       "    </tr>\n",
       "    <tr>\n",
       "      <th>7782</th>\n",
       "      <td>1078235987</td>\n",
       "      <td>Pass By (Ngang Qua)</td>\n",
       "      <td>StillaD</td>\n",
       "      <td>613954</td>\n",
       "      <td>StillaD</td>\n",
       "      <td>613954</td>\n",
       "      <td>2018-01-11 00:58:00</td>\n",
       "      <td>10</td>\n",
       "    </tr>\n",
       "  </tbody>\n",
       "</table>\n",
       "</div>"
      ],
      "text/plain": [
       "              ID                        title     artist_name artist_id  \\\n",
       "6600  1078179716         Sự Tích Cọp Lông Vằn   Bé Hiển Thông    607733   \n",
       "7790  1078236665             Anh Luôn Tồn Tại       Huỳnh Như    433983   \n",
       "7784  1078236479             Làm Sao Anh Quên   Nhật Tinh Anh      2292   \n",
       "7785  1078236482                      Hoa Núi        Minh Chi    434322   \n",
       "7786  1078236485               Hoa Núi (Beat)        Minh Chi    434322   \n",
       "7787  1078236620                Em Sẽ Nhớ Mãi       Nguyên Hà     19050   \n",
       "7788  1078236656               Làm Ơn Đừng Đi  Châu Ngọc Hiếu     14362   \n",
       "7789  1078236664      Anh Luôn Tồn Tại (Beat)       Huỳnh Như    433983   \n",
       "7791  1078236699  Guantamera (Lần Đầu Gặp Em)   Đàm Vĩnh Hưng        16   \n",
       "7782  1078235987          Pass By (Ngang Qua)         StillaD    613954   \n",
       "\n",
       "           composers_name composers_id         release_time  label  \n",
       "6600           Khánh Trần       609200  2018-07-23 20:08:00     10  \n",
       "7790            Khánh Đơn       100386  2018-02-10 22:20:00     10  \n",
       "7784          Cao Anh Phi       103510  2018-02-10 17:29:00     10  \n",
       "7785           Hoàng Thúc       613964  2018-02-10 17:35:00     10  \n",
       "7786           Hoàng Thúc       613964  2018-02-10 17:39:00     10  \n",
       "7787   Đức Trí, Bằng Kiều    2028.1001  2018-02-10 21:03:00     10  \n",
       "7788       Châu Ngọc Hiếu        14362  2018-02-10 22:10:00     10  \n",
       "7789            Khánh Đơn       100386  2018-02-10 22:20:00     10  \n",
       "7791  Nhạc Ngoại Lời Việt       100103  2018-02-10 22:54:00     10  \n",
       "7782              StillaD       613954  2018-01-11 00:58:00     10  "
      ]
     },
     "execution_count": 37,
     "metadata": {},
     "output_type": "execute_result"
    }
   ],
   "source": [
    "df3.sort_values(by=[\"label\"],ascending=False).head(10)"
   ]
  },
  {
   "cell_type": "code",
   "execution_count": null,
   "metadata": {},
   "outputs": [],
   "source": [
    "## Top 10"
   ]
  },
  {
   "cell_type": "code",
   "execution_count": 34,
   "metadata": {},
   "outputs": [],
   "source": [
    "top=df3[df3[\"label\"] > 7]"
   ]
  },
  {
   "cell_type": "code",
   "execution_count": 38,
   "metadata": {},
   "outputs": [
    {
     "data": {
      "text/plain": [
       "2743"
      ]
     },
     "execution_count": 38,
     "metadata": {},
     "output_type": "execute_result"
    }
   ],
   "source": [
    "len(top)"
   ]
  },
  {
   "cell_type": "code",
   "execution_count": 41,
   "metadata": {},
   "outputs": [
    {
     "data": {
      "text/plain": [
       "'07'"
      ]
     },
     "execution_count": 41,
     "metadata": {},
     "output_type": "execute_result"
    }
   ],
   "source": [
    "## get Year\n",
    "def getYear(time):\n",
    "    times = time.split()\n",
    "    return times[0].split(\"-\")[0]\n",
    "     \n",
    "\n",
    "## get Month\n",
    "def getMonth(time):\n",
    "    times = time.split()\n",
    "    return times[0].split(\"-\")[1]\n",
    "                               \n",
    "                            \n",
    "\n",
    "getMonth(\"2018-07-23 20:08:00\")"
   ]
  },
  {
   "cell_type": "code",
   "execution_count": 51,
   "metadata": {},
   "outputs": [
    {
     "data": {
      "text/plain": [
       "Hoàng Minh Thắng           137\n",
       "Hương Ngọc Vân              80\n",
       "Hoàng Tú Minh               64\n",
       "Thu Phương                  63\n",
       "Trường Kha                  51\n",
       "Dương Hồ Hải                43\n",
       "Vũ Hoàng, Thạch Thảo        42\n",
       "Kim Linh                    35\n",
       "Bùi Tuyết Mai               31\n",
       "Tuấn Tú                     30\n",
       "Vũ Hoàng                    30\n",
       "Hằng Ni                     30\n",
       "Đình Phước                  28\n",
       "Lm. Quang Lâm               27\n",
       "Hương Ngọc Vân, Tố Đoàn     25\n",
       "Hoàng Nhật Thái             21\n",
       "Đức Trần                    18\n",
       "Ngọc Trắng                  17\n",
       "Dương Nhân Trung            17\n",
       "Mạnh Hồng Nhi               17\n",
       "Name: artist_name, dtype: int64"
      ]
     },
     "execution_count": 51,
     "metadata": {},
     "output_type": "execute_result"
    }
   ],
   "source": [
    "## Top 10 artist\n",
    "top[\"artist_name\"].value_counts().head(20)"
   ]
  },
  {
   "cell_type": "code",
   "execution_count": 52,
   "metadata": {},
   "outputs": [
    {
     "data": {
      "text/plain": [
       "Nhạc Ngoại Lời Việt    80\n",
       "Thanh Sơn              62\n",
       "Lam Phương             46\n",
       "Nhạc Hoa Lời Việt      42\n",
       "Hoài An                40\n",
       "Vinh Sử                39\n",
       "Tô Vũ Hoàng            39\n",
       "Trúc Phương            35\n",
       "Ngọc Sơn               29\n",
       "Trần Thiện Thanh       28\n",
       "Hoài Linh              24\n",
       "Trịnh Công Sơn         24\n",
       "Trịnh Bảo Bàng         23\n",
       "Minh Vy                20\n",
       "Anh Bằng               20\n",
       "Châu Kỳ                19\n",
       "Vũ Ngọc Toản           19\n",
       "Nhiều Nhạc Sĩ          18\n",
       "Phi Bằng               18\n",
       "Song Ngọc              17\n",
       "Name: composers_name, dtype: int64"
      ]
     },
     "execution_count": 52,
     "metadata": {},
     "output_type": "execute_result"
    }
   ],
   "source": [
    "## Top 10 composers\n",
    "top[\"composers_name\"].value_counts().head(20)"
   ]
  },
  {
   "cell_type": "code",
   "execution_count": null,
   "metadata": {},
   "outputs": [],
   "source": [
    "## how many hit in one month? "
   ]
  },
  {
   "cell_type": "code",
   "execution_count": null,
   "metadata": {},
   "outputs": [],
   "source": []
  },
  {
   "cell_type": "code",
   "execution_count": 46,
   "metadata": {},
   "outputs": [
    {
     "name": "stderr",
     "output_type": "stream",
     "text": [
      "C:\\Users\\KhoaDQ1\\AppData\\Local\\Continuum\\anaconda3\\lib\\site-packages\\ipykernel_launcher.py:2: SettingWithCopyWarning: \n",
      "A value is trying to be set on a copy of a slice from a DataFrame.\n",
      "Try using .loc[row_indexer,col_indexer] = value instead\n",
      "\n",
      "See the caveats in the documentation: http://pandas.pydata.org/pandas-docs/stable/indexing.html#indexing-view-versus-copy\n",
      "  \n"
     ]
    }
   ],
   "source": [
    "le = LabelEncoder()\n",
    "# top['release_time'] = le.fit_transform(top['release_time'].astype('str'))\n"
   ]
  },
  {
   "cell_type": "code",
   "execution_count": 47,
   "metadata": {},
   "outputs": [
    {
     "name": "stdout",
     "output_type": "stream",
     "text": [
      "<class 'pandas.core.frame.DataFrame'>\n",
      "Int64Index: 2743 entries, 7 to 9076\n",
      "Data columns (total 8 columns):\n",
      "ID                2743 non-null int64\n",
      "title             2743 non-null object\n",
      "artist_name       2743 non-null object\n",
      "artist_id         2743 non-null object\n",
      "composers_name    2743 non-null object\n",
      "composers_id      2743 non-null object\n",
      "release_time      2743 non-null int32\n",
      "label             2743 non-null int64\n",
      "dtypes: int32(1), int64(2), object(5)\n",
      "memory usage: 182.2+ KB\n"
     ]
    }
   ],
   "source": [
    "top.info()"
   ]
  },
  {
   "cell_type": "code",
   "execution_count": 49,
   "metadata": {},
   "outputs": [],
   "source": [
    "#  sns.barplot(x=getYear(top[\"release_time\"].to_string()), y=top[\"artist_name\"].value_counts(), data=top)"
   ]
  },
  {
   "cell_type": "code",
   "execution_count": 39,
   "metadata": {},
   "outputs": [
    {
     "data": {
      "text/plain": [
       "932"
      ]
     },
     "execution_count": 39,
     "metadata": {},
     "output_type": "execute_result"
    }
   ],
   "source": [
    "len(top_10)"
   ]
  },
  {
   "cell_type": "code",
   "execution_count": 36,
   "metadata": {},
   "outputs": [
    {
     "data": {
      "text/plain": [
       "Hoàng Minh Thắng              109\n",
       "Dương Hồ Hải                   37\n",
       "Hoàng Tú Minh                  37\n",
       "Hương Ngọc Vân                 37\n",
       "Thu Phương                     35\n",
       "Trường Kha                     20\n",
       "Đức Trần                       16\n",
       "Bùi Tuyết Mai                  14\n",
       "Trịnh Nhật Minh                12\n",
       "Mai Kha                        12\n",
       "Hương Ngọc Vân, Tố Đoàn        11\n",
       "Kim Linh                       10\n",
       "Đình Phước                     10\n",
       "Đàm Vĩnh Hưng                  10\n",
       "Hoàng Chiến                     9\n",
       "Phạm Anh Duy                    9\n",
       "Anh Đô                          8\n",
       "Hằng Ni                         8\n",
       "Võ Thiện Thanh                  8\n",
       "Thế Sơn                         7\n",
       "Hoàng Hoa                       7\n",
       "Mai Tuấn                        7\n",
       "Đan Kim                         7\n",
       "Bé Hoài Ngọc                    6\n",
       "Thùy Dương                      6\n",
       "Cao Hoàng                       6\n",
       "Vũ Vịnh Huy                     6\n",
       "Nguyễn Duy Trường               6\n",
       "Quang Đệ                        5\n",
       "Thích Trung Đạt                 5\n",
       "                             ... \n",
       "Tăng Ngọc Tuyền                 1\n",
       "Kiến Thành, Kim Đàm Rapper      1\n",
       "Tín Nhiệm                       1\n",
       "Ngô Kiến Huy, BlackBi           1\n",
       "Hồ Gia Khánh                    1\n",
       "Tâm Đoan                        1\n",
       "Đức Lương                       1\n",
       "Hoàng Lan                       1\n",
       "Ali Hoàng Dương                 1\n",
       "Hyo                             1\n",
       "Bùi Tuyết Mai, Đông Quân        1\n",
       "Y Jang Tuyn                     1\n",
       "Vũ Kiên                         1\n",
       "Đoàn Thái Bảo                   1\n",
       "Đàm Vĩnh Hưng, Karik            1\n",
       "Tiết Duy Hòa                    1\n",
       "Hà Quyên                        1\n",
       "Hoàng AT                        1\n",
       "Trang Tạ                        1\n",
       "Jay Phan, Grace                 1\n",
       "Hoàng Khánh Long                1\n",
       "Nguyên Sơn, Lê Mỹ Hương         1\n",
       "Khởi Phong                      1\n",
       "Saka Trương Tuyền               1\n",
       "Hoài Nam                        1\n",
       "Chung Thương T-Jo               1\n",
       "Loan Châu                       1\n",
       "Hà Trọng                        1\n",
       "M.I.M Project                   1\n",
       "Lưu Bích                        1\n",
       "Name: artist_name, Length: 306, dtype: int64"
      ]
     },
     "execution_count": 36,
     "metadata": {},
     "output_type": "execute_result"
    }
   ],
   "source": [
    "top_10[\"artist_name\"].value_counts()"
   ]
  },
  {
   "cell_type": "code",
   "execution_count": null,
   "metadata": {},
   "outputs": [],
   "source": []
  },
  {
   "cell_type": "code",
   "execution_count": null,
   "metadata": {},
   "outputs": [],
   "source": []
  },
  {
   "cell_type": "code",
   "execution_count": null,
   "metadata": {},
   "outputs": [],
   "source": [
    "len(df3[df3[\"label\"]== 10])"
   ]
  },
  {
   "cell_type": "code",
   "execution_count": 4,
   "metadata": {},
   "outputs": [
    {
     "data": {
      "text/html": [
       "<div>\n",
       "<style scoped>\n",
       "    .dataframe tbody tr th:only-of-type {\n",
       "        vertical-align: middle;\n",
       "    }\n",
       "\n",
       "    .dataframe tbody tr th {\n",
       "        vertical-align: top;\n",
       "    }\n",
       "\n",
       "    .dataframe thead th {\n",
       "        text-align: right;\n",
       "    }\n",
       "</style>\n",
       "<table border=\"1\" class=\"dataframe\">\n",
       "  <thead>\n",
       "    <tr style=\"text-align: right;\">\n",
       "      <th></th>\n",
       "      <th>ID</th>\n",
       "      <th>title</th>\n",
       "      <th>artist_name</th>\n",
       "      <th>artist_id</th>\n",
       "      <th>composers_name</th>\n",
       "      <th>composers_id</th>\n",
       "      <th>release_time</th>\n",
       "    </tr>\n",
       "  </thead>\n",
       "  <tbody>\n",
       "    <tr>\n",
       "      <th>9073</th>\n",
       "      <td>1078514050</td>\n",
       "      <td>Xin Còn Gọi Tên Nhau</td>\n",
       "      <td>Phong Vũ</td>\n",
       "      <td>658098</td>\n",
       "      <td>Trường Sa</td>\n",
       "      <td>100105</td>\n",
       "      <td>2018-12-31 22:23:00</td>\n",
       "    </tr>\n",
       "    <tr>\n",
       "      <th>9074</th>\n",
       "      <td>1078514051</td>\n",
       "      <td>Delilah - Tình Hận</td>\n",
       "      <td>Phong Vũ</td>\n",
       "      <td>658098</td>\n",
       "      <td>Nhạc Ngoại Lời Việt, Phạm Duy</td>\n",
       "      <td>100103.100109</td>\n",
       "      <td>2018-12-31 22:23:00</td>\n",
       "    </tr>\n",
       "    <tr>\n",
       "      <th>9075</th>\n",
       "      <td>1078514052</td>\n",
       "      <td>Tình Yêu Như Mũi Tên</td>\n",
       "      <td>Phong Vũ</td>\n",
       "      <td>658098</td>\n",
       "      <td>Nhạc Ngoại Lời Việt, Anh Bằng</td>\n",
       "      <td>100103.100183</td>\n",
       "      <td>2018-12-31 22:23:00</td>\n",
       "    </tr>\n",
       "    <tr>\n",
       "      <th>9076</th>\n",
       "      <td>1078514053</td>\n",
       "      <td>Thu Hát Cho Người</td>\n",
       "      <td>Phong Vũ</td>\n",
       "      <td>658098</td>\n",
       "      <td>Vũ Đức Sao Biển</td>\n",
       "      <td>100047</td>\n",
       "      <td>2018-12-31 22:23:00</td>\n",
       "    </tr>\n",
       "    <tr>\n",
       "      <th>9077</th>\n",
       "      <td>1078514108</td>\n",
       "      <td>Mình Dành Cho Nhau Nỗi Buồn (Beat)</td>\n",
       "      <td>Trungg I.U, Tuấn Đinh</td>\n",
       "      <td>603401.650141</td>\n",
       "      <td>Trungg I.U</td>\n",
       "      <td>603401</td>\n",
       "      <td>2018-12-31 22:32:00</td>\n",
       "    </tr>\n",
       "  </tbody>\n",
       "</table>\n",
       "</div>"
      ],
      "text/plain": [
       "              ID                               title            artist_name  \\\n",
       "9073  1078514050                Xin Còn Gọi Tên Nhau               Phong Vũ   \n",
       "9074  1078514051                  Delilah - Tình Hận               Phong Vũ   \n",
       "9075  1078514052                Tình Yêu Như Mũi Tên               Phong Vũ   \n",
       "9076  1078514053                   Thu Hát Cho Người               Phong Vũ   \n",
       "9077  1078514108  Mình Dành Cho Nhau Nỗi Buồn (Beat)  Trungg I.U, Tuấn Đinh   \n",
       "\n",
       "          artist_id                 composers_name   composers_id  \\\n",
       "9073         658098                      Trường Sa         100105   \n",
       "9074         658098  Nhạc Ngoại Lời Việt, Phạm Duy  100103.100109   \n",
       "9075         658098  Nhạc Ngoại Lời Việt, Anh Bằng  100103.100183   \n",
       "9076         658098                Vũ Đức Sao Biển         100047   \n",
       "9077  603401.650141                     Trungg I.U         603401   \n",
       "\n",
       "             release_time  \n",
       "9073  2018-12-31 22:23:00  \n",
       "9074  2018-12-31 22:23:00  \n",
       "9075  2018-12-31 22:23:00  \n",
       "9076  2018-12-31 22:23:00  \n",
       "9077  2018-12-31 22:32:00  "
      ]
     },
     "execution_count": 4,
     "metadata": {},
     "output_type": "execute_result"
    }
   ],
   "source": [
    "df_train.tail()"
   ]
  },
  {
   "cell_type": "code",
   "execution_count": 5,
   "metadata": {},
   "outputs": [
    {
     "name": "stdout",
     "output_type": "stream",
     "text": [
      "<class 'pandas.core.frame.DataFrame'>\n",
      "RangeIndex: 9078 entries, 0 to 9077\n",
      "Data columns (total 7 columns):\n",
      "ID                9078 non-null int64\n",
      "title             9078 non-null object\n",
      "artist_name       9078 non-null object\n",
      "artist_id         9078 non-null object\n",
      "composers_name    9078 non-null object\n",
      "composers_id      9078 non-null object\n",
      "release_time      9078 non-null object\n",
      "dtypes: int64(1), object(6)\n",
      "memory usage: 496.5+ KB\n"
     ]
    }
   ],
   "source": [
    "df_train.info()"
   ]
  },
  {
   "cell_type": "code",
   "execution_count": 53,
   "metadata": {},
   "outputs": [
    {
     "data": {
      "text/plain": [
       "Hoàng Minh Thắng        147\n",
       "Vũ Hoàng, Thạch Thảo    120\n",
       "Hương Ngọc Vân          111\n",
       "Thích Trung Đạt         100\n",
       "Trường Kha               98\n",
       "Thu Phương               73\n",
       "Hoàng Tú Minh            71\n",
       "Tuấn Tú                  69\n",
       "Lm. Quang Lâm            59\n",
       "Diễm Thùy                56\n",
       "Name: artist_name, dtype: int64"
      ]
     },
     "execution_count": 53,
     "metadata": {},
     "output_type": "execute_result"
    }
   ],
   "source": [
    "df_train[\"artist_name\"].value_counts().head(10)"
   ]
  },
  {
   "cell_type": "code",
   "execution_count": 8,
   "metadata": {},
   "outputs": [
    {
     "data": {
      "text/plain": [
       "2397"
      ]
     },
     "execution_count": 8,
     "metadata": {},
     "output_type": "execute_result"
    }
   ],
   "source": [
    "df_train[\"artist_name\"].nunique()"
   ]
  },
  {
   "cell_type": "code",
   "execution_count": 54,
   "metadata": {},
   "outputs": [
    {
     "data": {
      "text/plain": [
       "Nhạc Ngoại Lời Việt    178\n",
       "Nhiều Nhạc Sĩ          163\n",
       "Thanh Sơn              161\n",
       "Lam Phương             136\n",
       "Nhạc Hoa Lời Việt      122\n",
       "Trúc Phương            111\n",
       "Trần Thiện Thanh        89\n",
       "Hoài An                 80\n",
       "Vinh Sử                 78\n",
       "DC Tâm                  77\n",
       "Ngọc Sơn                76\n",
       "Khánh Đơn               75\n",
       "Thái Thịnh              74\n",
       "Hàn Châu                68\n",
       "Tô Vũ Hoàng             68\n",
       "Giao Tiên               61\n",
       "Châu Kỳ                 55\n",
       "Anh Bằng                55\n",
       "Phi Bằng                54\n",
       "Name: composers_name, dtype: int64"
      ]
     },
     "execution_count": 54,
     "metadata": {},
     "output_type": "execute_result"
    }
   ],
   "source": [
    "df_train[\"composers_name\"].value_counts().head(19)"
   ]
  },
  {
   "cell_type": "code",
   "execution_count": null,
   "metadata": {},
   "outputs": [],
   "source": [
    "## Train Model\n"
   ]
  },
  {
   "cell_type": "code",
   "execution_count": 56,
   "metadata": {},
   "outputs": [],
   "source": [
    "df_train['artist_id_'] = le.fit_transform(df_train['artist_id'].astype('str'))\n",
    "df_train['composers_id_'] = le.fit_transform(df_train['composers_id']).astype('int')"
   ]
  },
  {
   "cell_type": "code",
   "execution_count": 57,
   "metadata": {},
   "outputs": [],
   "source": [
    "df_test['composers_id_'] = le.fit_transform(df_test['composers_id']).astype('int')\n",
    "df_test['artist_id_'] = le.fit_transform(df_test['artist_id'].astype('str'))"
   ]
  },
  {
   "cell_type": "code",
   "execution_count": 120,
   "metadata": {},
   "outputs": [],
   "source": [
    "# df_train['release_time_'] = le.fit_transform(df_train['release_time'].dt.strftime(\"%Y%m%d %h%m%d \").astype(int))\n",
    "import matplotlib.dates as mdates\n",
    "df_train['release_time']= pd.to_datetime(df_train['release_time'])\n",
    "df_train['release_time_']= df_train['release_time'].apply(lambda x: mdates.date2num(x))\n",
    "\n",
    "df_test['release_time']= pd.to_datetime(df_test['release_time'])\n",
    "df_test['release_time_']= df_test['release_time'].apply(lambda x: mdates.date2num(x))"
   ]
  },
  {
   "cell_type": "code",
   "execution_count": 115,
   "metadata": {},
   "outputs": [
    {
     "data": {
      "text/html": [
       "<div>\n",
       "<style scoped>\n",
       "    .dataframe tbody tr th:only-of-type {\n",
       "        vertical-align: middle;\n",
       "    }\n",
       "\n",
       "    .dataframe tbody tr th {\n",
       "        vertical-align: top;\n",
       "    }\n",
       "\n",
       "    .dataframe thead th {\n",
       "        text-align: right;\n",
       "    }\n",
       "</style>\n",
       "<table border=\"1\" class=\"dataframe\">\n",
       "  <thead>\n",
       "    <tr style=\"text-align: right;\">\n",
       "      <th></th>\n",
       "      <th>ID</th>\n",
       "      <th>title</th>\n",
       "      <th>artist_name</th>\n",
       "      <th>artist_id</th>\n",
       "      <th>composers_name</th>\n",
       "      <th>composers_id</th>\n",
       "      <th>release_time</th>\n",
       "      <th>artist_id_</th>\n",
       "      <th>composers_id_</th>\n",
       "      <th>release_time_</th>\n",
       "    </tr>\n",
       "  </thead>\n",
       "  <tbody>\n",
       "    <tr>\n",
       "      <th>0</th>\n",
       "      <td>1073748245</td>\n",
       "      <td>Đêm Chôn Dầu Vượt Biển</td>\n",
       "      <td>Như Quỳnh</td>\n",
       "      <td>551</td>\n",
       "      <td>Châu Đình An</td>\n",
       "      <td>5765</td>\n",
       "      <td>2017-10-01 22:07:00</td>\n",
       "      <td>1229</td>\n",
       "      <td>1707</td>\n",
       "      <td>736603.921528</td>\n",
       "    </tr>\n",
       "    <tr>\n",
       "      <th>1</th>\n",
       "      <td>1073751978</td>\n",
       "      <td>Mùa Thu Trong Mưa</td>\n",
       "      <td>Minh Tuyết</td>\n",
       "      <td>455</td>\n",
       "      <td>Trường Sa</td>\n",
       "      <td>100105</td>\n",
       "      <td>2017-10-01 20:58:00</td>\n",
       "      <td>1097</td>\n",
       "      <td>129</td>\n",
       "      <td>736603.873611</td>\n",
       "    </tr>\n",
       "    <tr>\n",
       "      <th>2</th>\n",
       "      <td>1073835561</td>\n",
       "      <td>Rồi Ánh Trăng Tan</td>\n",
       "      <td>Lưu Bích</td>\n",
       "      <td>450</td>\n",
       "      <td>Quốc Bảo</td>\n",
       "      <td>4355</td>\n",
       "      <td>2017-11-01 18:16:00</td>\n",
       "      <td>1089</td>\n",
       "      <td>1656</td>\n",
       "      <td>736634.761111</td>\n",
       "    </tr>\n",
       "    <tr>\n",
       "      <th>3</th>\n",
       "      <td>1073856553</td>\n",
       "      <td>Còn Thương Rau Đắng Mọc Sau Hè</td>\n",
       "      <td>Như Quỳnh</td>\n",
       "      <td>551</td>\n",
       "      <td>Bắc Sơn</td>\n",
       "      <td>7686</td>\n",
       "      <td>2017-11-01 17:36:00</td>\n",
       "      <td>1229</td>\n",
       "      <td>2165</td>\n",
       "      <td>736634.733333</td>\n",
       "    </tr>\n",
       "    <tr>\n",
       "      <th>4</th>\n",
       "      <td>1073929630</td>\n",
       "      <td>Người Điên Biết Yêu</td>\n",
       "      <td>Như Loan</td>\n",
       "      <td>513</td>\n",
       "      <td>Lê Minh Kha</td>\n",
       "      <td>100466</td>\n",
       "      <td>2017-11-01 17:49:00</td>\n",
       "      <td>1159</td>\n",
       "      <td>431</td>\n",
       "      <td>736634.742361</td>\n",
       "    </tr>\n",
       "  </tbody>\n",
       "</table>\n",
       "</div>"
      ],
      "text/plain": [
       "           ID                           title artist_name artist_id  \\\n",
       "0  1073748245          Đêm Chôn Dầu Vượt Biển   Như Quỳnh       551   \n",
       "1  1073751978               Mùa Thu Trong Mưa  Minh Tuyết       455   \n",
       "2  1073835561               Rồi Ánh Trăng Tan    Lưu Bích       450   \n",
       "3  1073856553  Còn Thương Rau Đắng Mọc Sau Hè   Như Quỳnh       551   \n",
       "4  1073929630             Người Điên Biết Yêu    Như Loan       513   \n",
       "\n",
       "  composers_name composers_id        release_time  artist_id_  composers_id_  \\\n",
       "0   Châu Đình An         5765 2017-10-01 22:07:00        1229           1707   \n",
       "1      Trường Sa       100105 2017-10-01 20:58:00        1097            129   \n",
       "2       Quốc Bảo         4355 2017-11-01 18:16:00        1089           1656   \n",
       "3        Bắc Sơn         7686 2017-11-01 17:36:00        1229           2165   \n",
       "4    Lê Minh Kha       100466 2017-11-01 17:49:00        1159            431   \n",
       "\n",
       "   release_time_  \n",
       "0  736603.921528  \n",
       "1  736603.873611  \n",
       "2  736634.761111  \n",
       "3  736634.733333  \n",
       "4  736634.742361  "
      ]
     },
     "execution_count": 115,
     "metadata": {},
     "output_type": "execute_result"
    }
   ],
   "source": [
    "df_train.head()"
   ]
  },
  {
   "cell_type": "code",
   "execution_count": 60,
   "metadata": {},
   "outputs": [],
   "source": [
    "from sklearn.model_selection import train_test_split\n",
    "train = df_train[['ID', 'artist_id_', 'composers_id_']]\n",
    "lable = df_rank['label']\n",
    "X_train, X_val, y_train, y_val = train_test_split(train, lable, test_size=0.2, random_state=7)"
   ]
  },
  {
   "cell_type": "code",
   "execution_count": 116,
   "metadata": {},
   "outputs": [],
   "source": [
    "train_2 = df_train[['ID', 'artist_id_', 'composers_id_','release_time_']]"
   ]
  },
  {
   "cell_type": "code",
   "execution_count": 117,
   "metadata": {},
   "outputs": [],
   "source": [
    "X_train, X_val, y_train, y_val = train_test_split(train_2, lable, test_size=0.2, random_state=7)"
   ]
  },
  {
   "cell_type": "code",
   "execution_count": 122,
   "metadata": {},
   "outputs": [
    {
     "name": "stdout",
     "output_type": "stream",
     "text": [
      "0.4541545838154608\n"
     ]
    }
   ],
   "source": [
    "from sklearn.ensemble import RandomForestRegressor\n",
    "rf_regression = RandomForestRegressor(n_estimators=200, min_samples_split= 2, random_state=101  )\n",
    "rf_regression.fit(X_train, y_train)\n",
    "accuracy = rf_regression.score(X_val, y_val)\n",
    "print(accuracy)"
   ]
  },
  {
   "cell_type": "code",
   "execution_count": null,
   "metadata": {},
   "outputs": [],
   "source": []
  },
  {
   "cell_type": "code",
   "execution_count": 123,
   "metadata": {},
   "outputs": [
    {
     "data": {
      "text/plain": [
       "array([4.57875   , 6.15889286, 5.3125    , ..., 3.905     , 3.745     ,\n",
       "       3.725     ])"
      ]
     },
     "execution_count": 123,
     "metadata": {},
     "output_type": "execute_result"
    }
   ],
   "source": [
    "test = df_test[['ID', 'artist_id_', 'composers_id_','release_time_']]\n",
    "y_pred = rf_regression.predict(test)\n",
    "y_pred"
   ]
  },
  {
   "cell_type": "code",
   "execution_count": 72,
   "metadata": {},
   "outputs": [],
   "source": [
    "from sklearn.neighbors import KNeighborsClassifier\n",
    "from sklearn.tree import DecisionTreeClassifier\n",
    "from sklearn.ensemble import RandomForestClassifier\n",
    "from sklearn.naive_bayes import GaussianNB\n",
    "from sklearn.svm import SVC\n",
    "import numpy as np"
   ]
  },
  {
   "cell_type": "code",
   "execution_count": 66,
   "metadata": {},
   "outputs": [],
   "source": [
    "from sklearn.model_selection import KFold\n",
    "from sklearn.model_selection import cross_val_score\n",
    "k_fold = KFold(n_splits=10, shuffle=True, random_state=101)"
   ]
  },
  {
   "cell_type": "code",
   "execution_count": 70,
   "metadata": {},
   "outputs": [
    {
     "name": "stdout",
     "output_type": "stream",
     "text": [
      "[0.25550661 0.24889868 0.27753304 0.25110132 0.26211454 0.26101322\n",
      " 0.25       0.30726872 0.25137817 0.27232635]\n"
     ]
    }
   ],
   "source": [
    "clf = KNeighborsClassifier(n_neighbors = 13)\n",
    "scoring = 'accuracy'\n",
    "score = cross_val_score(clf, train, lable, cv=k_fold, n_jobs=1, scoring=scoring)\n",
    "print(score)"
   ]
  },
  {
   "cell_type": "code",
   "execution_count": 73,
   "metadata": {},
   "outputs": [
    {
     "data": {
      "text/plain": [
       "26.37"
      ]
     },
     "execution_count": 73,
     "metadata": {},
     "output_type": "execute_result"
    }
   ],
   "source": [
    "round(np.mean(score)*100, 2)"
   ]
  },
  {
   "cell_type": "code",
   "execution_count": 75,
   "metadata": {},
   "outputs": [
    {
     "name": "stdout",
     "output_type": "stream",
     "text": [
      "[0.27202643 0.26431718 0.25220264 0.28854626 0.25440529 0.30066079\n",
      " 0.25       0.27753304 0.27453142 0.25578831]\n"
     ]
    }
   ],
   "source": [
    "clf = DecisionTreeClassifier()\n",
    "scoring = 'accuracy'\n",
    "score = cross_val_score(clf, train, lable, cv=k_fold, n_jobs=1, scoring=scoring)\n",
    "print(score)"
   ]
  },
  {
   "cell_type": "code",
   "execution_count": 76,
   "metadata": {},
   "outputs": [
    {
     "data": {
      "text/plain": [
       "26.9"
      ]
     },
     "execution_count": 76,
     "metadata": {},
     "output_type": "execute_result"
    }
   ],
   "source": [
    "round(np.mean(score)*100, 2)"
   ]
  },
  {
   "cell_type": "code",
   "execution_count": 77,
   "metadata": {},
   "outputs": [
    {
     "name": "stdout",
     "output_type": "stream",
     "text": [
      "[0.25330396 0.26651982 0.27422907 0.27753304 0.27092511 0.28854626\n",
      " 0.24559471 0.2753304  0.26681367 0.26901874]\n"
     ]
    }
   ],
   "source": [
    "\n",
    "scoring = 'accuracy'\n",
    "score = cross_val_score(clf, train, lable, cv=k_fold, n_jobs=1, scoring=scoring)\n",
    "print(score)"
   ]
  },
  {
   "cell_type": "code",
   "execution_count": 94,
   "metadata": {},
   "outputs": [],
   "source": [
    "param_grid = {\n",
    "                \"n_estimators\":[1, 5, 10, 20, 50, 100, 200, 500],\n",
    "                \n",
    "             }"
   ]
  },
  {
   "cell_type": "code",
   "execution_count": 95,
   "metadata": {},
   "outputs": [
    {
     "data": {
      "text/plain": [
       "GridSearchCV(cv=10, error_score='raise-deprecating',\n",
       "             estimator=RandomForestClassifier(bootstrap=True, class_weight=None,\n",
       "                                              criterion='gini', max_depth=None,\n",
       "                                              max_features='auto',\n",
       "                                              max_leaf_nodes=None,\n",
       "                                              min_impurity_decrease=0.0,\n",
       "                                              min_impurity_split=None,\n",
       "                                              min_samples_leaf=1,\n",
       "                                              min_samples_split=2,\n",
       "                                              min_weight_fraction_leaf=0.0,\n",
       "                                              n_estimators='warn', n_jobs=None,\n",
       "                                              oob_score=False,\n",
       "                                              random_state=None, verbose=0,\n",
       "                                              warm_start=False),\n",
       "             iid='warn', n_jobs=None,\n",
       "             param_grid={'max_depth': [2, 5, 7, 9],\n",
       "                         'n_estimators': [1, 5, 10, 20, 50, 100, 200, 500]},\n",
       "             pre_dispatch='2*n_jobs', refit=True, return_train_score=False,\n",
       "             scoring=None, verbose=0)"
      ]
     },
     "execution_count": 95,
     "metadata": {},
     "output_type": "execute_result"
    }
   ],
   "source": [
    "from sklearn.model_selection import GridSearchCV\n",
    "clf = RandomForestClassifier()\n",
    "\n",
    "grid_clf = GridSearchCV(clf, param_grid, cv=10)\n",
    "grid_clf.fit(X_train, y_train)"
   ]
  },
  {
   "cell_type": "code",
   "execution_count": 96,
   "metadata": {},
   "outputs": [
    {
     "data": {
      "text/plain": [
       "RandomForestClassifier(bootstrap=True, class_weight=None, criterion='gini',\n",
       "                       max_depth=9, max_features='auto', max_leaf_nodes=None,\n",
       "                       min_impurity_decrease=0.0, min_impurity_split=None,\n",
       "                       min_samples_leaf=1, min_samples_split=2,\n",
       "                       min_weight_fraction_leaf=0.0, n_estimators=500,\n",
       "                       n_jobs=None, oob_score=False, random_state=None,\n",
       "                       verbose=0, warm_start=False)"
      ]
     },
     "execution_count": 96,
     "metadata": {},
     "output_type": "execute_result"
    }
   ],
   "source": [
    "grid_clf.best_estimator_"
   ]
  },
  {
   "cell_type": "code",
   "execution_count": 97,
   "metadata": {},
   "outputs": [
    {
     "data": {
      "text/plain": [
       "0.2590195538419168"
      ]
     },
     "execution_count": 97,
     "metadata": {},
     "output_type": "execute_result"
    }
   ],
   "source": [
    "grid_clf.best_score_"
   ]
  },
  {
   "cell_type": "code",
   "execution_count": 98,
   "metadata": {},
   "outputs": [
    {
     "data": {
      "text/plain": [
       "{'max_depth': 9, 'n_estimators': 500}"
      ]
     },
     "execution_count": 98,
     "metadata": {},
     "output_type": "execute_result"
    }
   ],
   "source": [
    "grid_clf.best_params_"
   ]
  },
  {
   "cell_type": "code",
   "execution_count": 99,
   "metadata": {},
   "outputs": [],
   "source": [
    "from sklearn.model_selection import RandomizedSearchCV\n"
   ]
  },
  {
   "cell_type": "code",
   "execution_count": 100,
   "metadata": {},
   "outputs": [
    {
     "name": "stderr",
     "output_type": "stream",
     "text": [
      "C:\\Users\\KhoaDQ1\\AppData\\Local\\Continuum\\anaconda3\\lib\\site-packages\\sklearn\\model_selection\\_split.py:1978: FutureWarning: The default value of cv will change from 3 to 5 in version 0.22. Specify it explicitly to silence this warning.\n",
      "  warnings.warn(CV_WARNING, FutureWarning)\n",
      "C:\\Users\\KhoaDQ1\\AppData\\Local\\Continuum\\anaconda3\\lib\\site-packages\\sklearn\\model_selection\\_search.py:266: UserWarning: The total space of parameters 8 is smaller than n_iter=10. Running 8 iterations. For exhaustive searches, use GridSearchCV.\n",
      "  % (grid_size, self.n_iter, grid_size), UserWarning)\n"
     ]
    },
    {
     "data": {
      "text/plain": [
       "RandomizedSearchCV(cv='warn', error_score='raise-deprecating',\n",
       "                   estimator=RandomForestClassifier(bootstrap=True,\n",
       "                                                    class_weight=None,\n",
       "                                                    criterion='gini',\n",
       "                                                    max_depth=None,\n",
       "                                                    max_features='auto',\n",
       "                                                    max_leaf_nodes=None,\n",
       "                                                    min_impurity_decrease=0.0,\n",
       "                                                    min_impurity_split=None,\n",
       "                                                    min_samples_leaf=1,\n",
       "                                                    min_samples_split=2,\n",
       "                                                    min_weight_fraction_leaf=0.0,\n",
       "                                                    n_estimators='warn',\n",
       "                                                    n_jobs=None,\n",
       "                                                    oob_score=False,\n",
       "                                                    random_state=None,\n",
       "                                                    verbose=0,\n",
       "                                                    warm_start=False),\n",
       "                   iid='warn', n_iter=10, n_jobs=None,\n",
       "                   param_distributions={'n_estimators': [1, 5, 10, 20, 50, 100,\n",
       "                                                         200, 500]},\n",
       "                   pre_dispatch='2*n_jobs', random_state=None, refit=True,\n",
       "                   return_train_score=False, scoring=None, verbose=0)"
      ]
     },
     "execution_count": 100,
     "metadata": {},
     "output_type": "execute_result"
    }
   ],
   "source": [
    "param_random = {\n",
    "    \"n_estimators\":[1, 5, 10, 20, 50, 100, 200, 500]\n",
    "}\n",
    "model = RandomForestClassifier()\n",
    "# Create random cv model\n",
    "randcv = RandomizedSearchCV(estimator = model, param_distributions = param_random)\n",
    "\n",
    "# Train model\n",
    "randcv.fit(X_train, y_train)"
   ]
  },
  {
   "cell_type": "code",
   "execution_count": 101,
   "metadata": {},
   "outputs": [
    {
     "data": {
      "text/plain": [
       "0.2564031947122005"
      ]
     },
     "execution_count": 101,
     "metadata": {},
     "output_type": "execute_result"
    }
   ],
   "source": [
    "randcv.best_score_"
   ]
  },
  {
   "cell_type": "code",
   "execution_count": 93,
   "metadata": {},
   "outputs": [
    {
     "data": {
      "text/plain": [
       "13.52"
      ]
     },
     "execution_count": 93,
     "metadata": {},
     "output_type": "execute_result"
    }
   ],
   "source": [
    "# Random Forest Score\n",
    "round(np.mean(score)*100, 2)"
   ]
  },
  {
   "cell_type": "code",
   "execution_count": 79,
   "metadata": {},
   "outputs": [
    {
     "name": "stdout",
     "output_type": "stream",
     "text": [
      "[0.13986784 0.12444934 0.16409692 0.16409692 0.15198238 0.14647577\n",
      " 0.16079295 0.16629956 0.15656009 0.1598677 ]\n"
     ]
    }
   ],
   "source": [
    "clf = GaussianNB()\n",
    "scoring = 'accuracy'\n",
    "score = cross_val_score(clf, train, lable, cv=k_fold, n_jobs=1, scoring=scoring)\n",
    "print(score)"
   ]
  },
  {
   "cell_type": "code",
   "execution_count": 80,
   "metadata": {},
   "outputs": [
    {
     "data": {
      "text/plain": [
       "15.34"
      ]
     },
     "execution_count": 80,
     "metadata": {},
     "output_type": "execute_result"
    }
   ],
   "source": [
    "# Naive Bayes Score\n",
    "round(np.mean(score)*100, 2)"
   ]
  },
  {
   "cell_type": "code",
   "execution_count": 82,
   "metadata": {},
   "outputs": [
    {
     "name": "stderr",
     "output_type": "stream",
     "text": [
      "C:\\Users\\KhoaDQ1\\AppData\\Local\\Continuum\\anaconda3\\lib\\site-packages\\sklearn\\svm\\base.py:193: FutureWarning: The default value of gamma will change from 'auto' to 'scale' in version 0.22 to account better for unscaled features. Set gamma explicitly to 'auto' or 'scale' to avoid this warning.\n",
      "  \"avoid this warning.\", FutureWarning)\n",
      "C:\\Users\\KhoaDQ1\\AppData\\Local\\Continuum\\anaconda3\\lib\\site-packages\\sklearn\\svm\\base.py:193: FutureWarning: The default value of gamma will change from 'auto' to 'scale' in version 0.22 to account better for unscaled features. Set gamma explicitly to 'auto' or 'scale' to avoid this warning.\n",
      "  \"avoid this warning.\", FutureWarning)\n",
      "C:\\Users\\KhoaDQ1\\AppData\\Local\\Continuum\\anaconda3\\lib\\site-packages\\sklearn\\svm\\base.py:193: FutureWarning: The default value of gamma will change from 'auto' to 'scale' in version 0.22 to account better for unscaled features. Set gamma explicitly to 'auto' or 'scale' to avoid this warning.\n",
      "  \"avoid this warning.\", FutureWarning)\n",
      "C:\\Users\\KhoaDQ1\\AppData\\Local\\Continuum\\anaconda3\\lib\\site-packages\\sklearn\\svm\\base.py:193: FutureWarning: The default value of gamma will change from 'auto' to 'scale' in version 0.22 to account better for unscaled features. Set gamma explicitly to 'auto' or 'scale' to avoid this warning.\n",
      "  \"avoid this warning.\", FutureWarning)\n",
      "C:\\Users\\KhoaDQ1\\AppData\\Local\\Continuum\\anaconda3\\lib\\site-packages\\sklearn\\svm\\base.py:193: FutureWarning: The default value of gamma will change from 'auto' to 'scale' in version 0.22 to account better for unscaled features. Set gamma explicitly to 'auto' or 'scale' to avoid this warning.\n",
      "  \"avoid this warning.\", FutureWarning)\n",
      "C:\\Users\\KhoaDQ1\\AppData\\Local\\Continuum\\anaconda3\\lib\\site-packages\\sklearn\\svm\\base.py:193: FutureWarning: The default value of gamma will change from 'auto' to 'scale' in version 0.22 to account better for unscaled features. Set gamma explicitly to 'auto' or 'scale' to avoid this warning.\n",
      "  \"avoid this warning.\", FutureWarning)\n",
      "C:\\Users\\KhoaDQ1\\AppData\\Local\\Continuum\\anaconda3\\lib\\site-packages\\sklearn\\svm\\base.py:193: FutureWarning: The default value of gamma will change from 'auto' to 'scale' in version 0.22 to account better for unscaled features. Set gamma explicitly to 'auto' or 'scale' to avoid this warning.\n",
      "  \"avoid this warning.\", FutureWarning)\n",
      "C:\\Users\\KhoaDQ1\\AppData\\Local\\Continuum\\anaconda3\\lib\\site-packages\\sklearn\\svm\\base.py:193: FutureWarning: The default value of gamma will change from 'auto' to 'scale' in version 0.22 to account better for unscaled features. Set gamma explicitly to 'auto' or 'scale' to avoid this warning.\n",
      "  \"avoid this warning.\", FutureWarning)\n",
      "C:\\Users\\KhoaDQ1\\AppData\\Local\\Continuum\\anaconda3\\lib\\site-packages\\sklearn\\svm\\base.py:193: FutureWarning: The default value of gamma will change from 'auto' to 'scale' in version 0.22 to account better for unscaled features. Set gamma explicitly to 'auto' or 'scale' to avoid this warning.\n",
      "  \"avoid this warning.\", FutureWarning)\n",
      "C:\\Users\\KhoaDQ1\\AppData\\Local\\Continuum\\anaconda3\\lib\\site-packages\\sklearn\\svm\\base.py:193: FutureWarning: The default value of gamma will change from 'auto' to 'scale' in version 0.22 to account better for unscaled features. Set gamma explicitly to 'auto' or 'scale' to avoid this warning.\n",
      "  \"avoid this warning.\", FutureWarning)\n"
     ]
    },
    {
     "name": "stdout",
     "output_type": "stream",
     "text": [
      "[0.14977974 0.14317181 0.13215859 0.14427313 0.10352423 0.14647577\n",
      " 0.14317181 0.12114537 0.13561191 0.1323043 ]\n"
     ]
    }
   ],
   "source": [
    "clf = SVC()\n",
    "scoring = 'accuracy'\n",
    "score = cross_val_score(clf, train, lable, cv=k_fold, n_jobs=1, scoring=scoring)\n",
    "print(score)"
   ]
  },
  {
   "cell_type": "code",
   "execution_count": 83,
   "metadata": {},
   "outputs": [
    {
     "data": {
      "text/plain": [
       "13.52"
      ]
     },
     "execution_count": 83,
     "metadata": {},
     "output_type": "execute_result"
    }
   ],
   "source": [
    "round(np.mean(score)*100,2)"
   ]
  },
  {
   "cell_type": "code",
   "execution_count": null,
   "metadata": {},
   "outputs": [],
   "source": []
  },
  {
   "cell_type": "code",
   "execution_count": null,
   "metadata": {},
   "outputs": [],
   "source": [
    "clf = SVC()\n",
    "scoring = 'accuracy'\n",
    "score = cross_val_score(clf, train_data, target, cv=k_fold, n_jobs=1, scoring=scoring)\n",
    "print(score)"
   ]
  },
  {
   "cell_type": "code",
   "execution_count": 126,
   "metadata": {},
   "outputs": [],
   "source": [
    "submission = pd.DataFrame({\n",
    "        \"A\": test[\"ID\"],\n",
    "        \"B\": y_pred\n",
    "    })\n",
    "\n",
    "submission.to_csv('submission.csv', index=False)"
   ]
  },
  {
   "cell_type": "code",
   "execution_count": 127,
   "metadata": {},
   "outputs": [
    {
     "data": {
      "text/html": [
       "<div>\n",
       "<style scoped>\n",
       "    .dataframe tbody tr th:only-of-type {\n",
       "        vertical-align: middle;\n",
       "    }\n",
       "\n",
       "    .dataframe tbody tr th {\n",
       "        vertical-align: top;\n",
       "    }\n",
       "\n",
       "    .dataframe thead th {\n",
       "        text-align: right;\n",
       "    }\n",
       "</style>\n",
       "<table border=\"1\" class=\"dataframe\">\n",
       "  <thead>\n",
       "    <tr style=\"text-align: right;\">\n",
       "      <th></th>\n",
       "      <th>A</th>\n",
       "      <th>B</th>\n",
       "    </tr>\n",
       "  </thead>\n",
       "  <tbody>\n",
       "    <tr>\n",
       "      <th>0</th>\n",
       "      <td>1073994292</td>\n",
       "      <td>4.578750</td>\n",
       "    </tr>\n",
       "    <tr>\n",
       "      <th>1</th>\n",
       "      <td>1074250503</td>\n",
       "      <td>6.158893</td>\n",
       "    </tr>\n",
       "    <tr>\n",
       "      <th>2</th>\n",
       "      <td>1074254709</td>\n",
       "      <td>5.312500</td>\n",
       "    </tr>\n",
       "    <tr>\n",
       "      <th>3</th>\n",
       "      <td>1074254735</td>\n",
       "      <td>5.442500</td>\n",
       "    </tr>\n",
       "    <tr>\n",
       "      <th>4</th>\n",
       "      <td>1074326411</td>\n",
       "      <td>3.596667</td>\n",
       "    </tr>\n",
       "  </tbody>\n",
       "</table>\n",
       "</div>"
      ],
      "text/plain": [
       "            A         B\n",
       "0  1073994292  4.578750\n",
       "1  1074250503  6.158893\n",
       "2  1074254709  5.312500\n",
       "3  1074254735  5.442500\n",
       "4  1074326411  3.596667"
      ]
     },
     "execution_count": 127,
     "metadata": {},
     "output_type": "execute_result"
    }
   ],
   "source": [
    "submission = pd.read_csv('submission.csv')\n",
    "submission.head()"
   ]
  },
  {
   "cell_type": "code",
   "execution_count": null,
   "metadata": {},
   "outputs": [],
   "source": []
  }
 ],
 "metadata": {
  "kernelspec": {
   "display_name": "Python 3",
   "language": "python",
   "name": "python3"
  },
  "language_info": {
   "codemirror_mode": {
    "name": "ipython",
    "version": 3
   },
   "file_extension": ".py",
   "mimetype": "text/x-python",
   "name": "python",
   "nbconvert_exporter": "python",
   "pygments_lexer": "ipython3",
   "version": "3.7.3"
  }
 },
 "nbformat": 4,
 "nbformat_minor": 4
}
